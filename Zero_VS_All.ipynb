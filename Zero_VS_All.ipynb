{
  "nbformat": 4,
  "nbformat_minor": 0,
  "metadata": {
    "colab": {
      "provenance": []
    },
    "kernelspec": {
      "name": "python3",
      "display_name": "Python 3"
    },
    "language_info": {
      "name": "python"
    }
  },
  "cells": [
    {
      "cell_type": "code",
      "execution_count": 1,
      "metadata": {
        "id": "oK3YXdIrTUpq"
      },
      "outputs": [],
      "source": [
        "import pandas as pd\n",
        "import numpy as np\n",
        "from sklearn.model_selection import train_test_split\n",
        "from sklearn.linear_model import LogisticRegression\n",
        "from sklearn.preprocessing import OneHotEncoder, StandardScaler\n",
        "from sklearn.impute import SimpleImputer\n",
        "from sklearn.compose import ColumnTransformer\n",
        "from sklearn.pipeline import Pipeline\n",
        "from sklearn.metrics import accuracy_score\n",
        "from sklearn.metrics import roc_auc_score\n",
        "from sklearn.preprocessing import label_binarize\n",
        "from sklearn.impute import KNNImputer"
      ]
    },
    {
      "cell_type": "code",
      "source": [
        "df1 = pd.read_csv(\"/content/Final_Cleaned.csv\")\n",
        "df2 = pd.read_csv(\"/content/Final_Cleaned.csv\")"
      ],
      "metadata": {
        "id": "gO11OsDwTx7e"
      },
      "execution_count": 2,
      "outputs": []
    },
    {
      "cell_type": "code",
      "source": [
        "#Mean\n",
        "# imputer = SimpleImputer(strategy='mean', missing_values=np.nan)\n",
        "# df1[['Vit D', 'Calcium']] = imputer.fit_transform(df1[['Vit D', 'Calcium']])\n",
        "\n",
        "# imputer = SimpleImputer(strategy='mean', missing_values=np.nan)\n",
        "# df2[['Vit D', 'Calcium']] = imputer.fit_transform(df2[['Vit D', 'Calcium']])\n",
        "\n",
        "\n",
        "#Median\n",
        "# imputer = SimpleImputer(strategy='median', missing_values=np.nan)\n",
        "# df1[['Vit D', 'Calcium']] = imputer.fit_transform(df1[['Vit D', 'Calcium']])\n",
        "\n",
        "# imputer = SimpleImputer(strategy='median', missing_values=np.nan)\n",
        "# df2[['Vit D', 'Calcium']] = imputer.fit_transform(df2[['Vit D', 'Calcium']])"
      ],
      "metadata": {
        "id": "19sNxIIVB3g3"
      },
      "execution_count": 3,
      "outputs": []
    },
    {
      "cell_type": "code",
      "source": [
        "#KNN\n",
        "knn_imputer = KNNImputer(n_neighbors=5)\n",
        "\n",
        "df1[['Vit D', 'Calcium']] = knn_imputer.fit_transform(df1[['Vit D', 'Calcium']])\n",
        "\n",
        "df2[['Vit D', 'Calcium']] = knn_imputer.fit_transform(df2[['Vit D', 'Calcium']])"
      ],
      "metadata": {
        "id": "uqpGa9XroDk5"
      },
      "execution_count": 4,
      "outputs": []
    },
    {
      "cell_type": "code",
      "source": [
        "df1['Diagnosis'] = df1['Diagnosis'].replace({'Porosis': \"1\", 'Penia': \"1\", 'Normal': \"0\"})\n",
        "\n",
        "categorical_columns = ['Gender', 'DM', 'HTN', 'Menopause']\n",
        "numerical_columns = ['Age', 'BMD', 'T Score', 'Vit D', 'Calcium']\n",
        "\n",
        "preprocessor = ColumnTransformer(\n",
        "    transformers=[\n",
        "        ('num', SimpleImputer(strategy='mean'), numerical_columns),\n",
        "        ('cat', OneHotEncoder(), categorical_columns)\n",
        "    ])"
      ],
      "metadata": {
        "id": "77xAbcvbUcNW"
      },
      "execution_count": 5,
      "outputs": []
    },
    {
      "cell_type": "code",
      "source": [
        "X1 = df1.drop(columns=['Diagnosis'])\n",
        "y1 = df1['Diagnosis']\n",
        "\n",
        "clf = Pipeline(steps=[('preprocessor', preprocessor),\n",
        "                      ('classifier', LogisticRegression())])\n",
        "\n",
        "\n",
        "clf.fit(X1, y1)\n",
        "\n",
        "y_pred1 = clf.predict(X1)\n",
        "\n",
        "accuracy = accuracy_score(y1, y_pred1)\n",
        "print(\"Accuracy:\", accuracy)"
      ],
      "metadata": {
        "colab": {
          "base_uri": "https://localhost:8080/"
        },
        "id": "wmxEjmAlWVgj",
        "outputId": "d333029a-3cf6-4577-937b-a31b6ddb135f"
      },
      "execution_count": 6,
      "outputs": [
        {
          "output_type": "stream",
          "name": "stdout",
          "text": [
            "Accuracy: 0.8581907090464548\n"
          ]
        },
        {
          "output_type": "stream",
          "name": "stderr",
          "text": [
            "/usr/local/lib/python3.10/dist-packages/sklearn/linear_model/_logistic.py:458: ConvergenceWarning: lbfgs failed to converge (status=1):\n",
            "STOP: TOTAL NO. of ITERATIONS REACHED LIMIT.\n",
            "\n",
            "Increase the number of iterations (max_iter) or scale the data as shown in:\n",
            "    https://scikit-learn.org/stable/modules/preprocessing.html\n",
            "Please also refer to the documentation for alternative solver options:\n",
            "    https://scikit-learn.org/stable/modules/linear_model.html#logistic-regression\n",
            "  n_iter_i = _check_optimize_result(\n"
          ]
        }
      ]
    },
    {
      "cell_type": "code",
      "source": [
        "df_P= df2[df2['Diagnosis'].isin([\"Porosis\", \"Penia\"])]\n",
        "categorical_columns = ['Gender', 'DM', 'HTN', 'Menopause']\n",
        "numerical_columns = ['Age', 'BMD', 'T Score', 'Vit D', 'Calcium']\n",
        "\n",
        "preprocessor2 = ColumnTransformer(\n",
        "    transformers=[\n",
        "        ('num', SimpleImputer(strategy='mean'), numerical_columns),\n",
        "        ('cat', OneHotEncoder(), categorical_columns)\n",
        "    ])"
      ],
      "metadata": {
        "id": "0LSKBtmzcc5b"
      },
      "execution_count": 7,
      "outputs": []
    },
    {
      "cell_type": "code",
      "source": [
        "X2 = df_P.drop(columns=['Diagnosis'])\n",
        "y2 = df_P['Diagnosis']\n",
        "\n",
        "\n",
        "clf2 = Pipeline(steps=[('preprocessor', preprocessor2),\n",
        "                      ('classifier', LogisticRegression())])\n",
        "\n",
        "clf2.fit(X2, y2)\n",
        "\n",
        "y_pred_ones_indices = np.where(y_pred1 == \"1\")[0]\n",
        "X_pred_ones = X1.iloc[y_pred_ones_indices]\n",
        "y_pred2 = clf2.predict(X_pred_ones)"
      ],
      "metadata": {
        "colab": {
          "base_uri": "https://localhost:8080/"
        },
        "id": "4CIreP6ofUrL",
        "outputId": "3042fc10-ad07-493d-cef5-eb92fe01e643"
      },
      "execution_count": 8,
      "outputs": [
        {
          "output_type": "stream",
          "name": "stderr",
          "text": [
            "/usr/local/lib/python3.10/dist-packages/sklearn/linear_model/_logistic.py:458: ConvergenceWarning: lbfgs failed to converge (status=1):\n",
            "STOP: TOTAL NO. of ITERATIONS REACHED LIMIT.\n",
            "\n",
            "Increase the number of iterations (max_iter) or scale the data as shown in:\n",
            "    https://scikit-learn.org/stable/modules/preprocessing.html\n",
            "Please also refer to the documentation for alternative solver options:\n",
            "    https://scikit-learn.org/stable/modules/linear_model.html#logistic-regression\n",
            "  n_iter_i = _check_optimize_result(\n"
          ]
        }
      ]
    },
    {
      "cell_type": "code",
      "source": [
        "y_actual = df2.iloc[y_pred_ones_indices]\n",
        "y_actual_diagnosis=y_actual[\"Diagnosis\"]\n",
        "\n",
        "\n",
        "accuracy_2 = accuracy_score(y_actual_diagnosis, y_pred2)\n",
        "print(\"Accuracy for distinguishing between Porosis and Penia:\", accuracy_2)"
      ],
      "metadata": {
        "colab": {
          "base_uri": "https://localhost:8080/"
        },
        "id": "zZvJVYZjgLZ0",
        "outputId": "707af8fc-fa40-45a6-b7e4-5b8a6ed69ba8"
      },
      "execution_count": 9,
      "outputs": [
        {
          "output_type": "stream",
          "name": "stdout",
          "text": [
            "Accuracy for distinguishing between Porosis and Penia: 0.6648648648648648\n"
          ]
        }
      ]
    },
    {
      "cell_type": "code",
      "source": [
        "y_prob = clf2.predict_proba(X_pred_ones)[:, 1]\n",
        "\n",
        "y_actual_diagnosis_bin = (y_actual_diagnosis == \"Porosis\").astype(int)\n",
        "\n",
        "# Calculate the AUC\n",
        "auc = roc_auc_score(y_actual_diagnosis_bin, y_prob)\n",
        "\n",
        "print(f\"AUC for the logistic regression model: {auc:.4f}\")"
      ],
      "metadata": {
        "colab": {
          "base_uri": "https://localhost:8080/"
        },
        "id": "xPbRBrvUlyp6",
        "outputId": "8ff2ba40-29ac-4b6b-c642-3bd32f27d120"
      },
      "execution_count": 10,
      "outputs": [
        {
          "output_type": "stream",
          "name": "stdout",
          "text": [
            "AUC for the logistic regression model: 0.7783\n"
          ]
        }
      ]
    }
  ]
}